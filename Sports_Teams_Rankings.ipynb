{
  "nbformat": 4,
  "nbformat_minor": 0,
  "metadata": {
    "colab": {
      "provenance": [],
      "include_colab_link": true
    },
    "kernelspec": {
      "name": "python3",
      "display_name": "Python 3"
    }
  },
  "cells": [
    {
      "cell_type": "markdown",
      "metadata": {
        "id": "view-in-github",
        "colab_type": "text"
      },
      "source": [
        "<a href=\"https://colab.research.google.com/github/josephnagel1/MATH311_linear_algebra_projects/blob/main/Sports_Teams_Rankings.ipynb\" target=\"_parent\"><img src=\"https://colab.research.google.com/assets/colab-badge.svg\" alt=\"Open In Colab\"/></a>"
      ]
    },
    {
      "cell_type": "markdown",
      "metadata": {
        "id": "TwGBRAD9R6W4"
      },
      "source": [
        "# Load the preliminary code"
      ]
    },
    {
      "cell_type": "code",
      "metadata": {
        "id": "NaP8xyCfRrUg"
      },
      "source": [
        "import matplotlib.pyplot as plt\n",
        "from sympy import Poly\n",
        "import sympy as sym\n",
        "import numpy as np\n",
        "from numpy import c_\n",
        "\n",
        "# We'll specify that x and t are variables:\n",
        "x, t = sym.symbols('x, t')"
      ],
      "execution_count": 13,
      "outputs": []
    },
    {
      "cell_type": "code",
      "metadata": {
        "id": "CANB9fuMRyBP"
      },
      "source": [
        "def rref(matrix):\n",
        "    A = np.array(matrix, dtype=np.float64)\n",
        "\n",
        "    r = 0 #row\n",
        "    c = 0 #column\n",
        "\n",
        "    (maxr, maxc) = A.shape\n",
        "\n",
        "    prev_row_pivot = -1   # The previous row with a leading term:\n",
        "    tmp_pivot_row = -1\n",
        "    this_pivot_row = -1\n",
        "\n",
        "    for c in range(maxc):  # go through each column\n",
        "      tmp_pivot_row = -1  # reset the tmp pivot row\n",
        "      this_pivot_row = -1  # reset this pivot row\n",
        "      for r in range(maxr):  # Find the leading term in this column below prev_row_pivot\n",
        "        if ((r > prev_row_pivot) and (A[r][c] != 0.0)):\n",
        "          tmp_pivot_row = r  # find the new pivot row\n",
        "      if (tmp_pivot_row > -1):  # we found a candidate for the leading term:\n",
        "        #swap row this_pivot_row with (prev_row_pivot + 1)\n",
        "        A[[tmp_pivot_row, prev_row_pivot+1]] = A[[prev_row_pivot + 1, tmp_pivot_row]]\n",
        "        #set this_pivot_row to prev_row_pivot+1\n",
        "        this_pivot_row = prev_row_pivot + 1\n",
        "        #Now, normalize the row based on the pivot value:\n",
        "        A[ this_pivot_row ] = A[ this_pivot_row ] / A[ this_pivot_row ][c]\n",
        "        #Then, use this row to force 0's above and below the pivot entry:\n",
        "        #subtract multiples of of the this_pivot_row row from the others\n",
        "        for r_ in range(len(A)):\n",
        "            if r_ != this_pivot_row:\n",
        "                A[r_] = A[r_] - A[this_pivot_row] * A[r_][c] / A[this_pivot_row][c]\n",
        "        prev_row_pivot = this_pivot_row\n",
        "    return A\n",
        "\n",
        "\n",
        "def is_singular(matrix):\n",
        "  singular = True\n",
        "  notsingular = False\n",
        "\n",
        "  (mr, mc) = matrix.shape\n",
        "\n",
        "  return_value = notsingular\n",
        "  if (mc - np.linalg.linalg.matrix_rank(matrix) > 0) :\n",
        "    return_value = singular\n",
        "  return return_value"
      ],
      "execution_count": 14,
      "outputs": []
    },
    {
      "cell_type": "markdown",
      "metadata": {
        "id": "dCB31bhvTulU"
      },
      "source": [
        "# Ranking Teams based on games\n",
        "\n",
        "From our packet, we saw there were five games:\n",
        "\n",
        "Home  | Away\n",
        "------|------\n",
        "Winona State 16 | Sioux Falls 15\n",
        "Winona State 34 | Augustana 20\n",
        "Sioux Falls 51  | Augustana 13\n",
        "Duluth 28       |  Augustana 17\n",
        "Winona State 17 | Duluth 37\n",
        "\n",
        "Let's encode this system into a matrix.\n",
        "\n",
        "The unknown rankings are $r_w, r_s, r_a, r_d$.\n",
        "\n",
        "The system looks like $M \\vec{x} = \\vec{b}$, or\n",
        "\n",
        "$$\n",
        "\\left( \\begin{array}{cccc} 1 & -1 & 0 & 0 \\\\ 1 & 0 & -1 & 0 \\\\ 0 & 1 & -1 & 0 \\\\ 0 & 0 & -1 & 1 \\\\ -1 & 0  & 0 & 1 \\\\ \\end{array} \\right) \\, \\left( \\begin{array}{c} r_w \\\\ r_s \\\\ r_a \\\\ r_d \\\\ \\end{array} \\right) = \\left( \\begin{array}{c} 1 \\\\ 14 \\\\ 38 \\\\ 11 \\\\ 20 \\\\ \\end{array} \\right)$$\n",
        "\n",
        "We'll solve this system using least squares\n",
        "$$M^T I M \\vec{x} = M^T I \\vec{b} $$\n",
        "\n",
        "$$ \\vec{x} = \\left( M^T I M  \\right)^{-1} M^T I \\vec{b} $$\n",
        "\n",
        "\n",
        "\n",
        "\n"
      ]
    },
    {
      "cell_type": "code",
      "metadata": {
        "id": "zZOH_e5mViMs",
        "colab": {
          "base_uri": "https://localhost:8080/"
        },
        "outputId": "4c203a4f-ad26-4678-e095-f154360b14e3"
      },
      "source": [
        "# create the matrix:\n",
        "M = np.matrix([[1, -1, 0, 0],\n",
        "               [1, 0, -1, 0],\n",
        "               [0, 1, -1, 0],\n",
        "               [0, 0, -1, 1],\n",
        "               [-1, 0, 0, 1]])\n",
        "\n",
        "\n",
        "# create the vector for the right hand side:\n",
        "pts = np.matrix([[1], [14], [38], [11], [20]])\n",
        "\n",
        "#Make sure the system looks appropriate:\n",
        "print(np.c_[M,pts])"
      ],
      "execution_count": 3,
      "outputs": [
        {
          "output_type": "stream",
          "name": "stdout",
          "text": [
            "[[ 1 -1  0  0  1]\n",
            " [ 1  0 -1  0 14]\n",
            " [ 0  1 -1  0 38]\n",
            " [ 0  0 -1  1 11]\n",
            " [-1  0  0  1 20]]\n"
          ]
        }
      ]
    },
    {
      "cell_type": "code",
      "metadata": {
        "id": "s_r-ljCGWB18",
        "colab": {
          "base_uri": "https://localhost:8080/"
        },
        "outputId": "d180f78f-80aa-46f7-c128-6d87a4efec1a"
      },
      "source": [
        "# Generate the transpose of M:\n",
        "MT = M.transpose()\n",
        "\n",
        "print(\"The Transpose of M is:\")\n",
        "print(MT)\n",
        "\n",
        "# and find MT*M and MT*pts:\n",
        "print(\"\\n\")\n",
        "print(\"MT * M is: \")\n",
        "MTM = MT * M\n",
        "print(MTM)\n",
        "\n",
        "print(\"\\n\")\n",
        "print(\"MT * pts is:\")\n",
        "MTpts = MT * pts\n",
        "print(MTpts)\n"
      ],
      "execution_count": 4,
      "outputs": [
        {
          "output_type": "stream",
          "name": "stdout",
          "text": [
            "The Transpose of M is:\n",
            "[[ 1  1  0  0 -1]\n",
            " [-1  0  1  0  0]\n",
            " [ 0 -1 -1 -1  0]\n",
            " [ 0  0  0  1  1]]\n",
            "\n",
            "\n",
            "MT * M is: \n",
            "[[ 3 -1 -1 -1]\n",
            " [-1  2 -1  0]\n",
            " [-1 -1  3 -1]\n",
            " [-1  0 -1  2]]\n",
            "\n",
            "\n",
            "MT * pts is:\n",
            "[[ -5]\n",
            " [ 37]\n",
            " [-63]\n",
            " [ 31]]\n"
          ]
        }
      ]
    },
    {
      "cell_type": "markdown",
      "metadata": {
        "id": "x38H0uPwbhpF"
      },
      "source": [
        "If $M^T M$ has an inverse, then we can use it.  But, if $M^T M$ is singular, then it doesn't have an inverse.  In this situation, we need to replace every entry in one row (say the bottom row) of $M^T M$ and $M^T \\vec{pts}$ with 1's.  (This knocks the system out of *not* having an inverse, so it will now have an inverse.)"
      ]
    },
    {
      "cell_type": "code",
      "metadata": {
        "id": "1ebWW4rZaopa",
        "colab": {
          "base_uri": "https://localhost:8080/"
        },
        "outputId": "6d29223f-8c66-43c1-9be7-d37ddbc80989"
      },
      "source": [
        "#  Check if MTM is singular\n",
        "is_singular(MT*M)"
      ],
      "execution_count": 5,
      "outputs": [
        {
          "output_type": "execute_result",
          "data": {
            "text/plain": [
              "True"
            ]
          },
          "metadata": {},
          "execution_count": 5
        }
      ]
    },
    {
      "cell_type": "code",
      "metadata": {
        "id": "Hs_ZR78AbziT",
        "colab": {
          "base_uri": "https://localhost:8080/"
        },
        "outputId": "ad653b24-320f-4a59-c98d-04161771d6e5"
      },
      "source": [
        "# If MTM is singular, then adjust one row of MTM and MT pts to be just 1's:\n",
        "\n",
        "#MTM[3] is the entire 4th row of MTM,\n",
        "#so MTM[3] = 1 will put 1's in MTM's 4th row.\n",
        "\n",
        "MTM[3] = 1\n",
        "MTpts[3] = 1\n",
        "\n",
        "print(\"MTM is now: \")\n",
        "print(MTM)\n",
        "\n",
        "print(\"and MTpts is now:\")\n",
        "print(MTpts)\n",
        "\n",
        "print(\"Is our modified MTM singular?\")\n",
        "is_singular(MTM)"
      ],
      "execution_count": 6,
      "outputs": [
        {
          "output_type": "stream",
          "name": "stdout",
          "text": [
            "MTM is now: \n",
            "[[ 3 -1 -1 -1]\n",
            " [-1  2 -1  0]\n",
            " [-1 -1  3 -1]\n",
            " [ 1  1  1  1]]\n",
            "and MTpts is now:\n",
            "[[ -5]\n",
            " [ 37]\n",
            " [-63]\n",
            " [  1]]\n",
            "Is our modified MTM singular?\n"
          ]
        },
        {
          "output_type": "execute_result",
          "data": {
            "text/plain": [
              "False"
            ]
          },
          "metadata": {},
          "execution_count": 6
        }
      ]
    },
    {
      "cell_type": "code",
      "metadata": {
        "id": "48WK4ZH7WRxH",
        "colab": {
          "base_uri": "https://localhost:8080/"
        },
        "outputId": "738ae8c6-54e6-4d29-c6eb-62ae501ff780"
      },
      "source": [
        "#Find our solution using the inverse of MTM:\n",
        "\n",
        "#First, find the inverse of MTM:\n",
        "MTMI = np.linalg.inv(MTM)\n",
        "\n",
        "print(\"The inverse of MTM is:\")\n",
        "print(MTMI)\n",
        "\n",
        "#Now, use the inverse of MTM to solve for the rankings:\n",
        "\n",
        "print(\"\\n\")\n",
        "print(\"The solution are rankings:\")\n",
        "MTMI * MTpts"
      ],
      "execution_count": 7,
      "outputs": [
        {
          "output_type": "stream",
          "name": "stdout",
          "text": [
            "The inverse of MTM is:\n",
            "[[ 2.50000000e-01  0.00000000e+00  1.85037171e-17  2.50000000e-01]\n",
            " [ 1.25000000e-01  5.00000000e-01  1.25000000e-01  2.50000000e-01]\n",
            " [ 0.00000000e+00  0.00000000e+00  2.50000000e-01  2.50000000e-01]\n",
            " [-3.75000000e-01 -5.00000000e-01 -3.75000000e-01  2.50000000e-01]]\n",
            "\n",
            "\n",
            "The solution are rankings:\n"
          ]
        },
        {
          "output_type": "execute_result",
          "data": {
            "text/plain": [
              "matrix([[ -1.  ],\n",
              "        [ 10.25],\n",
              "        [-15.5 ],\n",
              "        [  7.25]])"
            ]
          },
          "metadata": {},
          "execution_count": 7
        }
      ]
    },
    {
      "cell_type": "markdown",
      "metadata": {
        "id": "YOTdLT4-R-1h"
      },
      "source": [
        "#  Game Data  - Fall Sports\n",
        "\n",
        "Find the game data for the four teams in the NFC North and NFC South.\n",
        "\n",
        "The teams are:\n",
        "\n",
        "* **NFC North:**  Green Bay Packers, Chicago Bears, Detroit Lions, Minnesota Vikings\n",
        "* **NFC South:**  Atlanta Falcons, Carolina Panthers, New Orleans Saints, Tampa Bay Buccaneers\n",
        "\n",
        "\n",
        "It may be helpful to do a google search to find the data.\n",
        "\n",
        "Be sure to create your matrix on the handout, then enter the data for the system below.\n",
        "\n",
        "# Game Data - Spring Sports\n",
        "\n",
        "Find the game data for the seven teams in the Western Division for Men's Big Ten Basketball.\n",
        "\n",
        "**The teams:**  Wisconsin, Minnesota, Iowa, Illinois, Nebraska, Purdue, and Northewstern.\n",
        "\n",
        "I've provided **most** of the data, but you have to do a Google search to find the scores for the last two teams.\n",
        "\n",
        "Be sure to create your matrix on the handout, then enter the data for the system below.\n"
      ]
    },
    {
      "cell_type": "code",
      "metadata": {
        "id": "RrMkbXIC5v_X",
        "colab": {
          "base_uri": "https://localhost:8080/"
        },
        "outputId": "285ccdcd-318c-4c30-e161-43c93ca71d5f"
      },
      "source": [
        "# create the matrix:\n",
        "M = np.matrix([[1, -1, 0, 0],\n",
        "               [1, 0, -1, 0],\n",
        "               [0, 1, -1, 0],\n",
        "               [0, 0, -1, 1],\n",
        "               [-1, 0, 0, 1]])\n",
        "\n",
        "\n",
        "# create the vector for the right hand side:\n",
        "pts = np.matrix([[1], [14], [38], [11], [20]])\n",
        "\n",
        "#Make sure the system looks appropriate:\n",
        "print(np.c_[M,pts])"
      ],
      "execution_count": 8,
      "outputs": [
        {
          "output_type": "stream",
          "name": "stdout",
          "text": [
            "[[ 1 -1  0  0  1]\n",
            " [ 1  0 -1  0 14]\n",
            " [ 0  1 -1  0 38]\n",
            " [ 0  0 -1  1 11]\n",
            " [-1  0  0  1 20]]\n"
          ]
        }
      ]
    },
    {
      "cell_type": "code",
      "metadata": {
        "id": "TLLB3Ebe587M",
        "colab": {
          "base_uri": "https://localhost:8080/"
        },
        "outputId": "0edfc1de-1c44-48d2-97f3-ca8b43ca5c10"
      },
      "source": [
        "# Generate the transpose of M:\n",
        "MT = M.transpose()\n",
        "\n",
        "print(\"The Transpose of M is:\")\n",
        "print(MT)\n",
        "\n",
        "# and find MT*M and MT*pts:\n",
        "print(\"\\n\")\n",
        "print(\"MT * M is: \")\n",
        "MTM = MT * M\n",
        "print(MTM)\n",
        "\n",
        "print(\"\\n\")\n",
        "print(\"MT * pts is:\")\n",
        "MTpts = MT * pts\n",
        "print(MTpts)\n"
      ],
      "execution_count": 9,
      "outputs": [
        {
          "output_type": "stream",
          "name": "stdout",
          "text": [
            "The Transpose of M is:\n",
            "[[ 1  1  0  0 -1]\n",
            " [-1  0  1  0  0]\n",
            " [ 0 -1 -1 -1  0]\n",
            " [ 0  0  0  1  1]]\n",
            "\n",
            "\n",
            "MT * M is: \n",
            "[[ 3 -1 -1 -1]\n",
            " [-1  2 -1  0]\n",
            " [-1 -1  3 -1]\n",
            " [-1  0 -1  2]]\n",
            "\n",
            "\n",
            "MT * pts is:\n",
            "[[ -5]\n",
            " [ 37]\n",
            " [-63]\n",
            " [ 31]]\n"
          ]
        }
      ]
    },
    {
      "cell_type": "code",
      "metadata": {
        "id": "VXqKSDj06BVa",
        "colab": {
          "base_uri": "https://localhost:8080/"
        },
        "outputId": "ea5eb643-90c2-4543-93b8-6a1cd0ee562c"
      },
      "source": [
        "#  Check if MTM is singular\n",
        "is_singular(MT*M)"
      ],
      "execution_count": 10,
      "outputs": [
        {
          "output_type": "execute_result",
          "data": {
            "text/plain": [
              "True"
            ]
          },
          "metadata": {},
          "execution_count": 10
        }
      ]
    },
    {
      "cell_type": "code",
      "metadata": {
        "id": "5E2eXRT76MQh",
        "colab": {
          "base_uri": "https://localhost:8080/"
        },
        "outputId": "56d1efff-7fc8-48bd-fb92-83fe71c9ab9f"
      },
      "source": [
        "# Careful - you might not need to do this!\n",
        "# Be sure to check whether MTM is singular on the previous line.\n",
        "\n",
        "# If MTM is singular, then adjust one row of MTM and MT pts to be just 1's:\n",
        "\n",
        "#MTM[3] is the entire 4th row of MTM,\n",
        "#so MTM[3] = 1 will put 1's in MTM's 4th row.\n",
        "\n",
        "MTM[3] = 1\n",
        "MTpts[3] = 1\n",
        "\n",
        "print(\"MTM is now: \")\n",
        "print(MTM)\n",
        "\n",
        "print(\"and MTpts is now:\")\n",
        "print(MTpts)\n",
        "\n",
        "print(\"Is our modified MTM singular?\")\n",
        "is_singular(MTM)"
      ],
      "execution_count": 11,
      "outputs": [
        {
          "output_type": "stream",
          "name": "stdout",
          "text": [
            "MTM is now: \n",
            "[[ 3 -1 -1 -1]\n",
            " [-1  2 -1  0]\n",
            " [-1 -1  3 -1]\n",
            " [ 1  1  1  1]]\n",
            "and MTpts is now:\n",
            "[[ -5]\n",
            " [ 37]\n",
            " [-63]\n",
            " [  1]]\n",
            "Is our modified MTM singular?\n"
          ]
        },
        {
          "output_type": "execute_result",
          "data": {
            "text/plain": [
              "False"
            ]
          },
          "metadata": {},
          "execution_count": 11
        }
      ]
    },
    {
      "cell_type": "code",
      "metadata": {
        "id": "UkDKmNba6YHi",
        "colab": {
          "base_uri": "https://localhost:8080/"
        },
        "outputId": "9410b242-69ba-4d4c-cc46-d898689be7e6"
      },
      "source": [
        "#Find our solution using the inverse of MTM:\n",
        "\n",
        "#First, find the inverse of MTM:\n",
        "MTMI = np.linalg.inv(MTM)\n",
        "\n",
        "print(\"The inverse of MTM is:\")\n",
        "print(MTMI)\n",
        "\n",
        "#Now, use the inverse of MTM to solve for the rankings:\n",
        "\n",
        "print(\"\\n\")\n",
        "print(\"The solution are rankings:\")\n",
        "MTMI * MTpts"
      ],
      "execution_count": 12,
      "outputs": [
        {
          "output_type": "stream",
          "name": "stdout",
          "text": [
            "The inverse of MTM is:\n",
            "[[ 2.50000000e-01  0.00000000e+00  1.85037171e-17  2.50000000e-01]\n",
            " [ 1.25000000e-01  5.00000000e-01  1.25000000e-01  2.50000000e-01]\n",
            " [ 0.00000000e+00  0.00000000e+00  2.50000000e-01  2.50000000e-01]\n",
            " [-3.75000000e-01 -5.00000000e-01 -3.75000000e-01  2.50000000e-01]]\n",
            "\n",
            "\n",
            "The solution are rankings:\n"
          ]
        },
        {
          "output_type": "execute_result",
          "data": {
            "text/plain": [
              "matrix([[ -1.  ],\n",
              "        [ 10.25],\n",
              "        [-15.5 ],\n",
              "        [  7.25]])"
            ]
          },
          "metadata": {},
          "execution_count": 12
        }
      ]
    },
    {
      "cell_type": "markdown",
      "source": [
        "# BIG 10 (Western Divison)"
      ],
      "metadata": {
        "id": "D82ZO4oa6rjf"
      }
    },
    {
      "cell_type": "code",
      "source": [
        "M = np.matrix([[1, 0, 0, 0, -1, 0, 0],\n",
        "               [-1, 0, 0, 0, 0, 1, 0],\n",
        "               [-1, 0, 0, 0, 1, 0, 0],\n",
        "               [1, 0, 0, -1, 0, 0, 0],\n",
        "               [1, -1, 0, 0, 0, 0, 0],\n",
        "               [1, 0, -1, 0, 0, 0, 0],\n",
        "               [1, 0, 0, 0, 0, 0, -1],\n",
        "               [-1, 0, 0, 0, 0, 1, 0],\n",
        "               [1, -1, 0, 0, 0, 0, 0],\n",
        "               [0, -1, 0, 0, 0, 1, 0],\n",
        "               [0, -1, 0, 0, 0, 0, 1],\n",
        "               [0, 1, 0, -1, 0, 0, 0],\n",
        "               [0, 1, -1, 0, 0, 0, 0],\n",
        "               [0, -1, 0, 0, 0, 1, 0],\n",
        "               [0, 1, -1, 0, 0, 0, 0],\n",
        "               [0, 1, 0, 0, 0, 0, -1],\n",
        "               [0, 1, 0, 0, -1, 0, 0],\n",
        "               [0, 0, 1, -1, 0, 0, 0],\n",
        "               [0, 0, -1, 0, 0, 0, 1],\n",
        "               [0, 0, 1, 0, -1, 0, 0],\n",
        "               [0, 0, -1, 0, 0, 1, 0],\n",
        "               [0, 0, -1, 1, 0, 0, 0],\n",
        "               [0, 0, -1, 0, 1, 0, 0],\n",
        "               [0, 0, 0, -1, 0, 0, 1],\n",
        "               [0, 0, 0, 1, 0, -1, 0],\n",
        "               [0, 0, 0, 1, -1, 0, 0],\n",
        "               [0, 0, 0, 1, 0, 0, -1],\n",
        "               [0, 0, 0, -1, 1, 0, 0],\n",
        "               [0, 0, 0, 0, 1, -1, 0],\n",
        "               [0, 0, 0, 0, -1, 0, 1],\n",
        "               [0, 0, 0, 0, -1, 1, 0],\n",
        "               [0, 0, 0, 0, 0, 1, -1],\n",
        "               [0, 0, 0, 0, 0, 1, -1],])\n",
        "\n",
        "pts = np.matrix([[30], [5], [5], [3], [10],\n",
        "                 [8], [8], [6], [12], [19],\n",
        "                 [11], [18], [9], [14], [5],\n",
        "                 [2], [7], [11], [2], [9],\n",
        "                 [8], [18], [24], [16], [16],\n",
        "                 [6], [8], [12], [4], [8],\n",
        "                 [9], [6], [8]])"
      ],
      "metadata": {
        "id": "PdkyWRlI6wcL"
      },
      "execution_count": 52,
      "outputs": []
    },
    {
      "cell_type": "code",
      "source": [
        "M_t = M.transpose()"
      ],
      "metadata": {
        "id": "jHFoHe_K9SK_"
      },
      "execution_count": 53,
      "outputs": []
    },
    {
      "cell_type": "code",
      "source": [
        "M_t_M = M_t * M\n",
        "M_t_M"
      ],
      "metadata": {
        "colab": {
          "base_uri": "https://localhost:8080/"
        },
        "id": "fki_vNKo9ZIf",
        "outputId": "d6374429-c628-4f20-8907-969cf286fe5f"
      },
      "execution_count": 54,
      "outputs": [
        {
          "output_type": "execute_result",
          "data": {
            "text/plain": [
              "matrix([[ 9, -2, -1, -1, -2, -2, -1],\n",
              "        [-2, 10, -2, -1, -1, -2, -2],\n",
              "        [-1, -2,  9, -2, -2, -1, -1],\n",
              "        [-1, -1, -2,  9, -2, -1, -2],\n",
              "        [-2, -1, -2, -2, 10, -2, -1],\n",
              "        [-2, -2, -1, -1, -2, 10, -2],\n",
              "        [-1, -2, -1, -2, -1, -2,  9]])"
            ]
          },
          "metadata": {},
          "execution_count": 54
        }
      ]
    },
    {
      "cell_type": "code",
      "source": [
        "is_singular(M_t_M)"
      ],
      "metadata": {
        "colab": {
          "base_uri": "https://localhost:8080/"
        },
        "id": "gwPPYtyI-qwG",
        "outputId": "1a3ac351-3bc3-43fc-a522-adde224386f2"
      },
      "execution_count": 55,
      "outputs": [
        {
          "output_type": "execute_result",
          "data": {
            "text/plain": [
              "True"
            ]
          },
          "metadata": {},
          "execution_count": 55
        }
      ]
    },
    {
      "cell_type": "code",
      "source": [
        "M_t_M[M_t_M.shape[1] - 1] = 1"
      ],
      "metadata": {
        "id": "lXsNlsQL9tn8"
      },
      "execution_count": 56,
      "outputs": []
    },
    {
      "cell_type": "code",
      "source": [
        "is_singular(M_t_M)"
      ],
      "metadata": {
        "colab": {
          "base_uri": "https://localhost:8080/"
        },
        "id": "ZjTe7URn-QVl",
        "outputId": "7cb1069c-9668-4d92-8ef4-6caae474b1d2"
      },
      "execution_count": 57,
      "outputs": [
        {
          "output_type": "execute_result",
          "data": {
            "text/plain": [
              "False"
            ]
          },
          "metadata": {},
          "execution_count": 57
        }
      ]
    },
    {
      "cell_type": "code",
      "source": [
        "np.linalg.inv(M_t_M) * (M_t * pts)"
      ],
      "metadata": {
        "colab": {
          "base_uri": "https://localhost:8080/"
        },
        "id": "SFW6lyHh-uJU",
        "outputId": "f2a0b2b2-41f5-4da6-b573-568417a76b4f"
      },
      "execution_count": 58,
      "outputs": [
        {
          "output_type": "execute_result",
          "data": {
            "text/plain": [
              "matrix([[ 6.37110236],\n",
              "        [-1.0499857 ],\n",
              "        [-5.24501573],\n",
              "        [-1.20685814],\n",
              "        [-1.19331352],\n",
              "        [ 5.95432282],\n",
              "        [ 1.3697479 ]])"
            ]
          },
          "metadata": {},
          "execution_count": 58
        }
      ]
    }
  ]
}