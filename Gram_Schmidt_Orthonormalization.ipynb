{
  "nbformat": 4,
  "nbformat_minor": 0,
  "metadata": {
    "colab": {
      "provenance": [],
      "authorship_tag": "ABX9TyPZ+0skUU6H6Nf8DoAWgH0z",
      "include_colab_link": true
    },
    "kernelspec": {
      "name": "python3",
      "display_name": "Python 3"
    },
    "language_info": {
      "name": "python"
    }
  },
  "cells": [
    {
      "cell_type": "markdown",
      "metadata": {
        "id": "view-in-github",
        "colab_type": "text"
      },
      "source": [
        "<a href=\"https://colab.research.google.com/github/josephnagel1/MATH311_linear_algebra_projects/blob/main/Gram_Schmidt_Orthonormalization.ipynb\" target=\"_parent\"><img src=\"https://colab.research.google.com/assets/colab-badge.svg\" alt=\"Open In Colab\"/></a>"
      ]
    },
    {
      "cell_type": "markdown",
      "source": [
        "# Load libraries"
      ],
      "metadata": {
        "id": "7sLIJCl51f00"
      }
    },
    {
      "cell_type": "code",
      "source": [
        "import numpy as np"
      ],
      "metadata": {
        "id": "tZ-zRUfi1fTy"
      },
      "execution_count": 27,
      "outputs": []
    },
    {
      "cell_type": "markdown",
      "source": [
        "# Finding orthonormal vectors using the Gram-Schmidt Orthonormalization Process"
      ],
      "metadata": {
        "id": "xsIn7PEq1M4w"
      }
    },
    {
      "cell_type": "markdown",
      "source": [
        "Starting vectors:"
      ],
      "metadata": {
        "id": "4jZCzH306X2d"
      }
    },
    {
      "cell_type": "code",
      "source": [
        "r1 = np.array([3, 0, 3, 0])\n",
        "\n",
        "r2 = np.array([3, 2, 3, 3])\n",
        "\n",
        "r3 = np.array([-7, -4, -5, -6])\n",
        "\n",
        "r4 = np.array([-7, -3, -11, 2])"
      ],
      "metadata": {
        "id": "ofNapzkk1z65"
      },
      "execution_count": 28,
      "outputs": []
    },
    {
      "cell_type": "markdown",
      "source": [
        "Find\n",
        " - $\\vec t_1 = \\vec r_1$\n",
        " - $\\hat u_1 = \\frac{\\vec t_1}{\\left| \\vec t_1 \\right|}$"
      ],
      "metadata": {
        "id": "MqgOrmrq7pMB"
      }
    },
    {
      "cell_type": "code",
      "source": [
        "t1 = r1\n",
        "\n",
        "u1 = t1/(np.sqrt(t1.dot(t1)))"
      ],
      "metadata": {
        "id": "qigUkRlS7l_d"
      },
      "execution_count": 29,
      "outputs": []
    },
    {
      "cell_type": "code",
      "source": [
        "u1.round(2)"
      ],
      "metadata": {
        "colab": {
          "base_uri": "https://localhost:8080/"
        },
        "id": "HfnpgPwW-pj2",
        "outputId": "3c331fc1-69a5-4c23-aaaa-1b2efaceb17b"
      },
      "execution_count": 30,
      "outputs": [
        {
          "output_type": "execute_result",
          "data": {
            "text/plain": [
              "array([0.71, 0.  , 0.71, 0.  ])"
            ]
          },
          "metadata": {},
          "execution_count": 30
        }
      ]
    },
    {
      "cell_type": "markdown",
      "source": [
        "Find\n",
        " - $\\vec t_2 = \\vec r_2 - (\\hat u_1 \\cdot \\vec r_2) \\hat u_1$\n",
        " - $\\hat u_2 = \\frac{\\vec t_2}{\\left| \\vec t_2 \\right|}$"
      ],
      "metadata": {
        "id": "PKik5eQb85Ii"
      }
    },
    {
      "cell_type": "code",
      "source": [
        "t2 = r2 - (u1.dot(r2))*u1\n",
        "\n",
        "u2 = t2/(np.sqrt(t2.dot(t2)))"
      ],
      "metadata": {
        "id": "YpRHqgmb9jXi"
      },
      "execution_count": 31,
      "outputs": []
    },
    {
      "cell_type": "code",
      "source": [
        "u2.round(2)"
      ],
      "metadata": {
        "colab": {
          "base_uri": "https://localhost:8080/"
        },
        "id": "NBq0731O-vHP",
        "outputId": "55cf2283-6745-49fd-f478-6c947a21af7b"
      },
      "execution_count": 32,
      "outputs": [
        {
          "output_type": "execute_result",
          "data": {
            "text/plain": [
              "array([-0.  ,  0.55, -0.  ,  0.83])"
            ]
          },
          "metadata": {},
          "execution_count": 32
        }
      ]
    },
    {
      "cell_type": "markdown",
      "source": [
        "Find\n",
        " - $\\vec t_3 = \\vec r_3 - (\\hat u_1 \\cdot \\vec r_3) \\hat u_1 - (\\hat u_2 \\cdot \\vec r_3) \\hat u_2$\n",
        " - $\\hat u_3 = \\frac{\\vec t_3}{\\left| \\vec t_3 \\right|}$"
      ],
      "metadata": {
        "id": "wGdaFpp4922L"
      }
    },
    {
      "cell_type": "code",
      "source": [
        "t3 = (r3 - (u1.dot(r3)*u1) - (u2.dot(r3)*u2))\n",
        "\n",
        "u3 = t3/(np.sqrt(t3.dot(t3)))"
      ],
      "metadata": {
        "id": "LO7entYh-CYn"
      },
      "execution_count": 33,
      "outputs": []
    },
    {
      "cell_type": "code",
      "source": [
        "u3.round(2)"
      ],
      "metadata": {
        "colab": {
          "base_uri": "https://localhost:8080/"
        },
        "id": "ZjaPc8Ft_VjF",
        "outputId": "ca95b1fe-c5ef-4076-8be2-84414f9c715c"
      },
      "execution_count": 34,
      "outputs": [
        {
          "output_type": "execute_result",
          "data": {
            "text/plain": [
              "array([-0.71, -0.  ,  0.71, -0.  ])"
            ]
          },
          "metadata": {},
          "execution_count": 34
        }
      ]
    },
    {
      "cell_type": "markdown",
      "source": [
        "Find\n",
        " - $\\vec t_4 = \\vec r_4 - (\\hat u_1 \\cdot \\vec r_4) \\hat u_1 - (\\hat u_2 \\cdot \\vec r_4) \\hat u_2 - (\\hat u_3 \\cdot \\vec r_4) \\hat u_3$\n",
        " - $\\hat u_4 = \\frac{\\vec t_4}{\\left| \\vec t_4 \\right|}$"
      ],
      "metadata": {
        "id": "RnymlXkn-JfF"
      }
    },
    {
      "cell_type": "code",
      "source": [
        "t4 = r4 - (u1.dot(r4)*u1) - (u2.dot(r4)*u2) - (u3.dot(r4)*u3)\n",
        "\n",
        "u4 = t4/(np.sqrt(t4.dot(t4)))"
      ],
      "metadata": {
        "id": "NeMc_pGd-RPC"
      },
      "execution_count": 35,
      "outputs": []
    },
    {
      "cell_type": "code",
      "source": [
        "u4.round(2)"
      ],
      "metadata": {
        "colab": {
          "base_uri": "https://localhost:8080/"
        },
        "id": "BRXm9Zp1A7U5",
        "outputId": "f78b7bd5-b5a5-42fd-84c1-3336ba70b9f8"
      },
      "execution_count": 36,
      "outputs": [
        {
          "output_type": "execute_result",
          "data": {
            "text/plain": [
              "array([ 0.  , -0.83,  0.  ,  0.55])"
            ]
          },
          "metadata": {},
          "execution_count": 36
        }
      ]
    }
  ]
}